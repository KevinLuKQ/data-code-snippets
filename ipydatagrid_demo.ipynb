{
 "cells": [
  {
   "cell_type": "code",
   "execution_count": 7,
   "metadata": {},
   "outputs": [],
   "source": [
    "import ipydatagrid\n",
    "import pandas as pd\n",
    "import ipywidgets as widgets\n",
    "from IPython.display import display, HTML, Markdown"
   ]
  },
  {
   "cell_type": "code",
   "execution_count": 42,
   "metadata": {},
   "outputs": [],
   "source": [
    "df = pd.read_csv(\"all_games.csv\", dtype = {\n",
    "    'name': 'string', \n",
    "    'platform': 'string',\n",
    "    'summary': 'string',\n",
    "    'meta_score': 'float64',\n",
    "}, parse_dates = ['release_date'], index_col=0).reset_index(drop=True)"
   ]
  },
  {
   "cell_type": "code",
   "execution_count": 43,
   "metadata": {
    "scrolled": true
   },
   "outputs": [
    {
     "data": {
      "text/markdown": [
       "## Game Statistics"
      ],
      "text/plain": [
       "<IPython.core.display.Markdown object>"
      ]
     },
     "metadata": {},
     "output_type": "display_data"
    },
    {
     "data": {
      "application/vnd.jupyter.widget-view+json": {
       "model_id": "feebb8d0cc0d48fea73538cd55bfb78f",
       "version_major": 2,
       "version_minor": 0
      },
      "text/plain": [
       "DataGrid(auto_fit_params={'area': 'all', 'padding': 30, 'numCols': None}, base_column_size=100, corner_rendere…"
      ]
     },
     "metadata": {},
     "output_type": "display_data"
    },
    {
     "data": {
      "application/vnd.jupyter.widget-view+json": {
       "model_id": "21e0bcb59141469187f9fb3329e5b775",
       "version_major": 2,
       "version_minor": 0
      },
      "text/plain": [
       "VBox(children=(HTML(value=''),))"
      ]
     },
     "metadata": {},
     "output_type": "display_data"
    }
   ],
   "source": [
    "grid = ipydatagrid.DataGrid(df, base_column_size=100, layout={'height': '300px'}, selection_mode='cell')\n",
    "\n",
    "data_info = widgets.HTML()\n",
    "vbox = widgets.VBox([data_info])\n",
    "\n",
    "def get_selection_data(cell):\n",
    "    selected = grid.selections\n",
    "    rc = selected[0]\n",
    "    stats = grid.get_visible_data().iloc[rc['r1']:rc['r2']+1, rc['c1']:rc['c2']+1]\n",
    "    try:\n",
    "        col_sum = stats.select_dtypes(include='float64').agg(['sum'])\n",
    "    except:\n",
    "        col_sum = None\n",
    "    stats = stats.describe().append(col_sum)\n",
    "    data_info.value = stats.to_html()\n",
    "\n",
    "grid.observe(get_selection_data, 'selections')\n",
    "display(Markdown('## Game Statistics'))\n",
    "display(grid)\n",
    "display(vbox)\n"
   ]
  },
  {
   "cell_type": "code",
   "execution_count": null,
   "metadata": {},
   "outputs": [],
   "source": []
  }
 ],
 "metadata": {
  "kernelspec": {
   "display_name": "Python 3 (ipykernel)",
   "language": "python",
   "name": "python3"
  },
  "language_info": {
   "codemirror_mode": {
    "name": "ipython",
    "version": 3
   },
   "file_extension": ".py",
   "mimetype": "text/x-python",
   "name": "python",
   "nbconvert_exporter": "python",
   "pygments_lexer": "ipython3",
   "version": "3.10.9"
  }
 },
 "nbformat": 4,
 "nbformat_minor": 2
}
